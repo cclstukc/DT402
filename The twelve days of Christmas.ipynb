{
 "cells": [
  {
   "cell_type": "markdown",
   "id": "441e5f68",
   "metadata": {},
   "source": [
    "## The task\n",
    "\n",
    "We will be recreating the print out each verse of the [The Twelve Days of Christmas](https://en.wikipedia.org/wiki/The_Twelve_Days_of_Christmas_(song)).\n",
    "\n",
    "The complete lyrics are shown here:"
   ]
  },
  {
   "cell_type": "markdown",
   "id": "8675e86b",
   "metadata": {},
   "source": [
    "### Lyrics\n",
    "\n",
    "> On the first day of Christmas my true love sent to me a partridge in a pear tree.\n",
    ">\n",
    "> On the second day of Christmas my true love sent to me two turtle doves and a partridge in a pear tree.\n",
    ">\n",
    "> On the third day of Christmas my true love sent to me three french hens, two turtle doves and a partridge in a pear tree.\n",
    ">\n",
    "> On the fourth day of Christmas my true love sent to me four calling birds, three french hens, two turtle doves and a partridge in a pear tree.\n",
    ">\n",
    "> On the fith day of Christmas my true love sent to me five gold rings, four calling birds, three french hens, two turtle doves and a partridge in a pear tree.\n",
    ">\n",
    "> On the sixth day of Christmas my true love sent to me six geese a-laying, five gold rings, four calling birds, three french hens, two turtle doves and a partridge in a pear tree.\n",
    ">\n",
    "> On the seventh day of Christmas my true love sent to me seven swans a-swimming, six geese a-laying, five gold rings, four calling birds, three french hens, two turtle doves and a partridge in a pear tree.\n",
    ">\n",
    "> On the eigth day of Christmas my true love sent to me eight maids a-milking, seven swans a-swimming, six geese a-laying, five gold rings, four calling birds, three french hens, two turtle doves and a partridge in a pear tree.\n",
    ">\n",
    "> On the nineth day of Christmas my true love sent to me nine ladies dancing, eight maids a-milking, seven swans a-swimming, six geese a-laying, five gold rings, four calling birds, three french hens, two turtle doves and a partridge in a pear tree.\n",
    ">\n",
    "> On the thenth day of Christmas my true love sent to me ten lords a-leaping, nine ladies dancing, eight maids a-milking, seven swans a-swimming, six geese a-laying, five gold rings, four calling birds, three french hens, two turtle doves and a partridge in a pear tree.\n",
    ">\n",
    "> On the eleventh day of Christmas my true love sent to me eleven pipers piping, ten lords a-leaping, nine ladies dancing, eight maids a-milking, seven swans a-swimming, six geese a-laying, five gold rings, four calling birds, three french hens, two turtle doves and a partridge in a pear tree.\n",
    ">\n",
    "> On the twelth day of Christmas my true love sent to me twelve drummers drumming, eleven pipers piping, ten lords a-leaping, nine ladies dancing, eight maids a-milking, seven swans a-swimming, six geese a-laying, five gold rings, four calling birds, three french hens, two turtle doves and a partridge in a pear tree."
   ]
  },
  {
   "cell_type": "markdown",
   "id": "b42ede75",
   "metadata": {},
   "source": [
    "### Help and hints\n",
    "\n",
    "Each verse has two parts:\n",
    "\n",
    "- A start with the same string `On the {day} of Christmas my true love sent to me`\n",
    "- An ever growing list of items, with extra ones added to the start of the list. Each item is separated by commas except the first one, which is separated with an \"and\". The first two lines will therefore need to be treated differently.\n",
    "\n",
    "Depending on how you choose to solve this, you will need at least:\n",
    "\n",
    "- The details of what is new in each verse. This will be provided in the dictionary `christmas_sequence`\n",
    "- One loop to iterate through all the verses and gifts. You may choose to do this with two but you can do it with one.\n",
    "- One conditional statement to check if the verse is the first, second or any other verse."
   ]
  },
  {
   "cell_type": "code",
   "execution_count": 1,
   "id": "32e9d52e",
   "metadata": {},
   "outputs": [],
   "source": [
    "christmas_sequence = {\"first\": \"a partridge in a pear tree\",\n",
    "                      \"second\": \"two turtle doves\",\n",
    "                      \"third\": \"three french hens\",\n",
    "                      \"fourth\": \"four calling birds\",\n",
    "                      \"fith\": \"five gold rings\",\n",
    "                      \"sixth\": \"six geese a-laying\",\n",
    "                      \"seventh\": \"seven swans a-swimming\",\n",
    "                      \"eigth\": \"eight maids a-milking\",\n",
    "                      \"nineth\": \"nine ladies dancing\",\n",
    "                      \"thenth\": \"ten lords a-leaping\",\n",
    "                      \"eleventh\": \"eleven pipers piping\",\n",
    "                      \"twelth\": \"twelve drummers drumming\"}"
   ]
  },
  {
   "cell_type": "code",
   "execution_count": 2,
   "id": "a36ee38b",
   "metadata": {},
   "outputs": [
    {
     "name": "stdout",
     "output_type": "stream",
     "text": [
      "On the first day of Christmas my true love sent to me a partridge in a pear tree\n",
      "On the second day of Christmas my true love sent to me two turtle doves and a partridge in a pear tree\n",
      "On the third day of Christmas my true love sent to me three french hens, two turtle doves and a partridge in a pear tree\n",
      "On the fourth day of Christmas my true love sent to me four calling birds, three french hens, two turtle doves and a partridge in a pear tree\n",
      "On the fith day of Christmas my true love sent to me five gold rings, four calling birds, three french hens, two turtle doves and a partridge in a pear tree\n",
      "On the sixth day of Christmas my true love sent to me six geese a-laying, five gold rings, four calling birds, three french hens, two turtle doves and a partridge in a pear tree\n",
      "On the seventh day of Christmas my true love sent to me seven swans a-swimming, six geese a-laying, five gold rings, four calling birds, three french hens, two turtle doves and a partridge in a pear tree\n",
      "On the eigth day of Christmas my true love sent to me eight maids a-milking, seven swans a-swimming, six geese a-laying, five gold rings, four calling birds, three french hens, two turtle doves and a partridge in a pear tree\n",
      "On the nineth day of Christmas my true love sent to me nine ladies dancing, eight maids a-milking, seven swans a-swimming, six geese a-laying, five gold rings, four calling birds, three french hens, two turtle doves and a partridge in a pear tree\n",
      "On the thenth day of Christmas my true love sent to me ten lords a-leaping, nine ladies dancing, eight maids a-milking, seven swans a-swimming, six geese a-laying, five gold rings, four calling birds, three french hens, two turtle doves and a partridge in a pear tree\n",
      "On the eleventh day of Christmas my true love sent to me eleven pipers piping, ten lords a-leaping, nine ladies dancing, eight maids a-milking, seven swans a-swimming, six geese a-laying, five gold rings, four calling birds, three french hens, two turtle doves and a partridge in a pear tree\n",
      "On the twelth day of Christmas my true love sent to me twelve drummers drumming, eleven pipers piping, ten lords a-leaping, nine ladies dancing, eight maids a-milking, seven swans a-swimming, six geese a-laying, five gold rings, four calling birds, three french hens, two turtle doves and a partridge in a pear tree\n"
     ]
    }
   ],
   "source": [
    "# Create the lyrics string\n",
    "# Loop through the sequence dictionary\n",
    "    # Check which verse is being generated\n",
    "    # Generate the verse\n",
    "    # print the verse\n",
    "\n",
    "for j in range(12):\n",
    "    v = str(list(christmas_sequence.keys())[j])\n",
    "    dayoc = \"On the \" + v + \" day of Christmas my true love sent to me \"\n",
    "    if (j > 0):\n",
    "        gifts = \", \".join(list(list(reversed(christmas_sequence.values()))[:11])[-j:]) + ' and ' \n",
    "    else:\n",
    "        gifts = \"\"\n",
    "    pinpt = str(list(christmas_sequence.values())[j-j])\n",
    "    verse = ((dayoc) + (gifts) + (pinpt))\n",
    "    print (verse)"
   ]
  }
 ],
 "metadata": {
  "jupytext": {
   "formats": "ipynb,md"
  },
  "kernelspec": {
   "display_name": "Python 3 (ipykernel)",
   "language": "python",
   "name": "python3"
  },
  "language_info": {
   "codemirror_mode": {
    "name": "ipython",
    "version": 3
   },
   "file_extension": ".py",
   "mimetype": "text/x-python",
   "name": "python",
   "nbconvert_exporter": "python",
   "pygments_lexer": "ipython3",
   "version": "3.12.0"
  }
 },
 "nbformat": 4,
 "nbformat_minor": 5
}
