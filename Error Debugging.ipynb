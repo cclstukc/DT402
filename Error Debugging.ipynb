{
 "cells": [
  {
   "cell_type": "markdown",
   "id": "e1e3c046",
   "metadata": {},
   "source": [
    "##### Resolve the python errors to create working code\n",
    "\n",
    "There are 3 types of error in python:\n",
    "- **Syntax Error**: *the code doesn't make sense*\n",
    "- **Runtime Error**: *the code doesn't work*\n",
    "- **Semantic Error**: *the code does the wrong thing*\n",
    "\n",
    "##### Exercise 1: Resolve the Syntax Error"
   ]
  },
  {
   "cell_type": "code",
   "execution_count": null,
   "id": "4aeb644b",
   "metadata": {},
   "outputs": [],
   "source": [
    "# Read the error message to identify and resolve the syntax error\n",
    "print('Hello World')"
   ]
  },
  {
   "cell_type": "code",
   "execution_count": null,
   "id": "d2cec946",
   "metadata": {},
   "outputs": [],
   "source": [
    "# Why was the code broken?\n",
    "## Hello World is a string but wasn't contained in quote marks, so python didn't know it was a string.\n",
    "## \n",
    "# How did you fix it?\n",
    "## Added single quote marks around the string Hello World\n",
    "## "
   ]
  },
  {
   "cell_type": "markdown",
   "id": "ada943b1",
   "metadata": {},
   "source": [
    "##### Exercise 2: Resolve the Name Error"
   ]
  },
  {
   "cell_type": "code",
   "execution_count": null,
   "id": "bd626fd8",
   "metadata": {},
   "outputs": [],
   "source": [
    "# Read the error message to identify and resolve the name error\n",
    "\n",
    "string_value = 'Jenny has 3 cats'\n",
    "\n",
    "print(string_value)"
   ]
  },
  {
   "cell_type": "code",
   "execution_count": null,
   "id": "01720b38",
   "metadata": {},
   "outputs": [],
   "source": [
    "# Why was the code broken?\n",
    "## The code was trying to print an unknown string variable strig_value. The known string variable is string_value with an 'n'.\n",
    "## \n",
    "# How did you fix it?\n",
    "## Correctly input the known string variable string_value.\n",
    "## "
   ]
  },
  {
   "cell_type": "markdown",
   "id": "6beed595",
   "metadata": {},
   "source": [
    "##### Exercise 3: Resolve the Type Error"
   ]
  },
  {
   "cell_type": "code",
   "execution_count": 1,
   "id": "0dd2cd2c",
   "metadata": {},
   "outputs": [
    {
     "name": "stdout",
     "output_type": "stream",
     "text": [
      "15\n"
     ]
    }
   ],
   "source": [
    "# Read the error message to identify and resolve the type error\n",
    "\n",
    "x = 10\n",
    "y = 5\n",
    "print(x+y)"
   ]
  },
  {
   "cell_type": "code",
   "execution_count": null,
   "id": "e5af81a2",
   "metadata": {},
   "outputs": [],
   "source": [
    "# Why was the code broken?\n",
    "## The variable x was assigned a string '10' not a value 10. Strings can't be added numerically, just concatenated.\n",
    "## \n",
    "# How did you fix it?\n",
    "## Removed the quote marks around '10' to give x the value 10.\n",
    "## "
   ]
  },
  {
   "cell_type": "markdown",
   "id": "44531ff9",
   "metadata": {},
   "source": [
    "##### Exercise 4: Resolve the Semantic Error"
   ]
  },
  {
   "cell_type": "code",
   "execution_count": null,
   "id": "70248363",
   "metadata": {},
   "outputs": [],
   "source": [
    "# Identify and resolve the semantic error\n",
    "\n",
    "x = 5\n",
    "y = 10\n",
    "\n",
    "print(f\"The sum of {x} and {y} is {x+y}\")"
   ]
  },
  {
   "cell_type": "code",
   "execution_count": null,
   "id": "36999fd4",
   "metadata": {},
   "outputs": [],
   "source": [
    "# Why was the code broken?\n",
    "## The variables 'x' and 'y' were assigned strings not value, and were being printed as strings.\n",
    "## \n",
    "# How did you fix it?\n",
    "## Removed the quote marks around the values assigned to x and y and used an f-string to simplify embedding variables into strings.\n",
    "## "
   ]
  }
 ],
 "metadata": {
  "kernelspec": {
   "display_name": "Python 3",
   "language": "python",
   "name": "python3"
  },
  "language_info": {
   "codemirror_mode": {
    "name": "ipython",
    "version": 3
   },
   "file_extension": ".py",
   "mimetype": "text/x-python",
   "name": "python",
   "nbconvert_exporter": "python",
   "pygments_lexer": "ipython3",
   "version": "3.12.0"
  }
 },
 "nbformat": 4,
 "nbformat_minor": 5
}
