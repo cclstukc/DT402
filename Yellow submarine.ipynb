{
 "cells": [
  {
   "cell_type": "markdown",
   "id": "3014cfb9",
   "metadata": {},
   "source": [
    "## Task background\n",
    "\n",
    "We are trying to create the chorus of the song [**Yellow submarine**](https://en.wikipedia.org/wiki/Yellow_Submarine_(song), which is:\n",
    "\n",
    ">_We all live in a yellow submarine, yellow submarine, yellow submarine_\n",
    ">\n",
    ">_We all live in a yellow submarine, yellow submarine, yellow submarine_\n",
    "\n",
    "This will require several loops:\n",
    "\n",
    "- One loop for each line in the chorus\n",
    "- One loop for each repetition of \"yellow submarine\"\n",
    "    \n",
    "We can generate this string using the code below:"
   ]
  },
  {
   "cell_type": "code",
   "execution_count": 1,
   "id": "ed56b16b",
   "metadata": {},
   "outputs": [
    {
     "name": "stdout",
     "output_type": "stream",
     "text": [
      "We all live in a yellow submarine, yellow submarine, yellow submarine\n",
      "We all live in a yellow submarine, yellow submarine, yellow submarine\n",
      "\n"
     ]
    }
   ],
   "source": [
    "lyrics = \"\"\n",
    "for i in range(2):\n",
    "    lyrics += 'We all live in a '\n",
    "    for j in range(3):\n",
    "        lyrics += 'yellow submarine'\n",
    "        if j < 2:\n",
    "            lyrics += ', '\n",
    "    lyrics += '\\n'\n",
    "print(lyrics)"
   ]
  },
  {
   "cell_type": "markdown",
   "id": "491f3547",
   "metadata": {},
   "source": [
    "## Your task\n",
    "\n",
    "Now have a go at recreating it using two list comprehensions. You will need: \n",
    "\n",
    "- One list comprehension to generate the line repetition\n",
    "- One list comprehension to generate the repetition of \"yellow submarine\"\n",
    "\n",
    "Fill in the parts with `???` from what you have learnt and the code above."
   ]
  },
  {
   "cell_type": "code",
   "execution_count": 9,
   "id": "60c99e06",
   "metadata": {},
   "outputs": [
    {
     "name": "stdout",
     "output_type": "stream",
     "text": [
      "We all live in a yellow submarine, yellow submarine, yellow submarine\n",
      "We all live in a yellow submarine, yellow submarine, yellow submarine\n"
     ]
    }
   ],
   "source": [
    "yellows = ', '.join('yellow submarine' for i in range(3) if i < 3)\n",
    "chorus = '\\n'.join('We all live in a '+(yellows) for j in range(2) if j < 2)\n",
    "print (chorus)"
   ]
  },
  {
   "cell_type": "code",
   "execution_count": null,
   "id": "429deffd",
   "metadata": {},
   "outputs": [],
   "source": []
  }
 ],
 "metadata": {
  "jupytext": {
   "formats": "ipynb,md"
  },
  "kernelspec": {
   "display_name": "Python 3 (ipykernel)",
   "language": "python",
   "name": "python3"
  },
  "language_info": {
   "codemirror_mode": {
    "name": "ipython",
    "version": 3
   },
   "file_extension": ".py",
   "mimetype": "text/x-python",
   "name": "python",
   "nbconvert_exporter": "python",
   "pygments_lexer": "ipython3",
   "version": "3.12.0"
  }
 },
 "nbformat": 4,
 "nbformat_minor": 5
}
